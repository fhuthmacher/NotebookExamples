{
 "cells": [
  {
   "cell_type": "markdown",
   "id": "be8da33c-eeb6-4d72-a0fc-89f9fb6a19fc",
   "metadata": {
    "tags": []
   },
   "source": [
    "# LLM Information Extraction Evaluation\n",
    "## Status: Experimental\n",
    "    \n",
    "This notebook attempts to provide a systematic approach for model evaluation, startig from a given business problem.\n"
   ]
  },
  {
   "cell_type": "markdown",
   "id": "d24283ee-03c6-45bf-a593-325a309e7ed5",
   "metadata": {},
   "source": [
    "Evaluating LLMs is a complex task. While there are benchmarks (e.g. https://huggingface.co/spaces/HuggingFaceH4/open_llm_leaderboard or https://crfm.stanford.edu/helm/latest/)\n",
    " available that provide a general view of how a particular LLM would perform in some common NLP tasks, most of evaluation frameworks/approaches are still evolving and none of them cover all aspects. It is important to understand which benchmark is the most relevant to a given use case, and to be mindful of the social aspects as well, and ultimately to evaluate LLMs against the data of your specific use case.\n",
    "    \n",
    "Business problem: \n",
    "Let's assume a financial analyst wants to use financial statements (balance sheets, income statements, operational reports, annual reports) to better understand the financial strength of a company to help assess risk and guide future investment decisisions.\n",
    "\n",
    "To do this efficiently they need to extract information from these documents which consist largely of unstructured text.\n",
    "This notebook focuses on Amazon's annual report, but the this approach can easily be adopted to other documents and an entire corpus of documents."
   ]
  },
  {
   "cell_type": "markdown",
   "id": "ad47020c-9266-4740-99c2-0d330b90d460",
   "metadata": {},
   "source": [
    "# Options\n",
    "There are various options for you to choose from in this process:\n",
    "\n",
    "- 1) Embeddings: Currently we are using amazon.titan-embed-text-v1, but will switch to amazon.titan-e1t-medium once generally available. \n",
    "- 2) Text Splitter: We used TokenTextSplitter from langchain. Other supported options within langchain are CharacterTextSplitter, RecursiveCharacterTextSplitter, or RecursiveCharacterTextSplitter. Which Splitter works best will vary based on your use case and source data types. In addition there are other libraries like unstructured or eparse available that can further improve retrieval relevance.\n",
    "- 3) Vector Store: We used OpenSearch Serverless as our vector database to store embeddings. And while there are many vector databases available, you typically don't need a dedicated vector database, rather you can leverage a database that already hosts your data and supports vetor search such as PG Vector with RDS or OpenSearch. Data gravity is definitely a strong decision factor.  \n",
    "- 4) Retrievers: OpenSearch VectoreStoreRetriver using KNN for similarity search. In general to retrieve text, there are two search types: “similarity” or “mmr”. search_type=\"similarity\" uses similarity search and the retriever object where it selects text chunk vectors that are most similar to the question vector. search_type=\"mmr\" uses the maximum marginal relevance search where it optimizes for similarity to query AND diversity among selected documents.\n",
    "- 5) Chain Type: The default chain_type=\"stuff\" uses ALL of the text from the documents in the prompt. This might work fine for information extraction within one document, but will not work for information extraction from very large documents or a large corpus of documents. This is where the \"map_reduce\" chain type comes in. map_reduce separates texts into batches and feeds each batch with the question to the LLM separately, and comes up with the final answer based on the answers from each batch. In contrast the \"refine\" chain type separates texts into batches, feeds the first batch to LLM, and feeds the answer and the second batch to LLM. It refines the answer by going through all the batches. And lastly, \"map-rerank\"  separates texts into batches, feeds each batch to LLM, returns a score of how fully it answers the question, and comes up with the final answer based on the high-scored answers from each batch.\n",
    "- 6) Prompt Template: In addition to the model parameter size, model type (instruct, chat, light, instant, hf), precision (fp32, fp16), and quantization itself and the options referenced above, there are other variables that impact the response of an LLM, including:\n",
    "Model parameters: Maximum tokens, temperature, top-p, top-k, and frequency penalty\n",
    "User prompt: Changing even a single word or punctuation may result in vastly different responses\n",
    "Prompt template: Determines tone, tenor, pace, mood, voice, syntax, diction, format, and length of response and helps enforce the use of the supplied contextual reference\n",
    "\n",
    "\n",
    "TO DO: Add guidance/documentation for PromptTemplate - Dan - open"
   ]
  },
  {
   "cell_type": "code",
   "execution_count": null,
   "id": "ea6dd86c-115c-49b9-b112-548edf312d33",
   "metadata": {
    "tags": []
   },
   "outputs": [],
   "source": [
    "# install dependencies\n",
    "%pip uninstall awscli boto3 botocore langchain  -y\n",
    "\n",
    "%pip install --no-build-isolation --force-reinstall \\\n",
    "    \"boto3>=1.28.57\" \\\n",
    "    \"awscli>=1.29.57\" \\\n",
    "    \"botocore>=1.31.57\"\n",
    "\n",
    "%pip install --quiet langchain==0.0.309 --force-reinstall\n",
    "%pip install langsmith tiktoken nltk python-dotenv xmltodict requests-aws4auth pypdf opensearch-py"
   ]
  },
  {
   "cell_type": "code",
   "execution_count": 98,
   "id": "ba52a1c8-3b25-4bfa-bbff-5bbbd5de31c6",
   "metadata": {
    "tags": []
   },
   "outputs": [
    {
     "data": {
      "text/html": [
       "<script>Jupyter.notebook.kernel.restart()</script>"
      ]
     },
     "metadata": {},
     "output_type": "display_data"
    }
   ],
   "source": [
    "# restart kernel to ensure proper version of libraries is loaded\n",
    "from IPython.display import display_html\n",
    "def restartkernel() :\n",
    "    display_html(\"<script>Jupyter.notebook.kernel.restart()</script>\",raw=True)\n",
    "restartkernel()"
   ]
  },
  {
   "cell_type": "code",
   "execution_count": 99,
   "id": "6b6646c5-8ccf-4e0b-8ea8-0501c379d551",
   "metadata": {
    "tags": []
   },
   "outputs": [
    {
     "name": "stdout",
     "output_type": "stream",
     "text": [
      "awscli                               1.29.57\n",
      "boto3                                1.28.57\n",
      "botocore                             1.31.57\n",
      "langchain                            0.0.305\n"
     ]
    }
   ],
   "source": [
    "!pip list | grep -E \"awscli|boto3|botocore|langchain\""
   ]
  },
  {
   "cell_type": "code",
   "execution_count": 101,
   "id": "8e938c8c-5e0b-483c-9efd-84c7c9d4e3bf",
   "metadata": {
    "tags": []
   },
   "outputs": [
    {
     "name": "stdout",
     "output_type": "stream",
     "text": [
      "sagemaker.config INFO - Not applying SDK defaults from location: /etc/xdg/sagemaker/config.yaml\n",
      "sagemaker.config INFO - Not applying SDK defaults from location: /root/.config/sagemaker/config.yaml\n"
     ]
    }
   ],
   "source": [
    "# load environment variables \n",
    "import boto3\n",
    "import os\n",
    "import botocore\n",
    "from botocore.config import Config\n",
    "import langchain\n",
    "import sagemaker\n",
    "import pandas as pd\n",
    "\n",
    "from langchain.llms.bedrock import Bedrock\n",
    "from langchain.llms import SagemakerEndpoint\n",
    "from langchain.llms.sagemaker_endpoint import LLMContentHandler\n",
    "from typing import Dict\n",
    "\n",
    "import json\n",
    "import requests\n",
    "import csv\n",
    "import time\n",
    "import pandas as pd\n",
    "import nltk\n",
    "import sys\n",
    "\n",
    "from langchain.llms import Bedrock\n",
    "from dotenv import load_dotenv, find_dotenv\n",
    "\n",
    "load_dotenv(find_dotenv('dev.env'),override=True)\n",
    "\n",
    "session = sagemaker.Session()\n",
    "bucket = session.default_bucket()\n",
    "\n",
    "os.environ['LANGCHAIN_ASSUME_ROLE'] = os.getenv('LANGCHAIN_ASSUME_ROLE')\n",
    "os.environ['BEDROCK_REGION_NAME'] = os.getenv('BEDROCK_REGION_NAME') # 'us-west-2'\n",
    "os.environ['BEDROCK_ENDPOINT_URL'] = os.getenv('BEDROCK_ENDPOINT_URL') # 'https://prod.us-west-2.frontend.bedrock.aws.dev'\n",
    "os.environ['OPENSEARCH_COLLECTION'] = os.getenv('OPENSEARCH_COLLECTION')\n",
    "os.environ['OPENSEARCH_REGION'] = os.getenv('OPENSEARCH_REGION')\n",
    "\n",
    "# Initialize Bedrock runtime\n",
    "config = Config(\n",
    "   retries = {\n",
    "      'max_attempts': 8\n",
    "   }\n",
    ")\n",
    "bedrock_runtime = boto3.client(\n",
    "        service_name=\"bedrock-runtime\",\n",
    "        region_name=os.environ.get(\"BEDROCK_REGION_NAME\", None),\n",
    "        config=config\n",
    ")\n",
    "\n",
    "# Initialize the DynamoDB client\n",
    "dynamodb_client = boto3.client('dynamodb')"
   ]
  },
  {
   "cell_type": "markdown",
   "id": "aa5398b2-5e7a-44b8-bfe5-312ec7d7080f",
   "metadata": {
    "tags": []
   },
   "source": [
    "<img src=\"https://d3q8adh3y5sxpk.cloudfront.net/meetingrecordings/modelevaluation/Slide1.jpeg\" alt=\"LLM selection process\" width=\"900\" height=\"550\">"
   ]
  },
  {
   "cell_type": "markdown",
   "id": "11a50061-31f3-4116-a816-08567db79eb4",
   "metadata": {},
   "source": [
    "# 1) Quick short listing\n",
    "Based on the LLM capabilties select a dozen models for a small test "
   ]
  },
  {
   "cell_type": "markdown",
   "id": "b1cf738e-80bc-4876-9510-b6645e5e64a4",
   "metadata": {
    "tags": []
   },
   "source": [
    "<img src=\"https://d3q8adh3y5sxpk.cloudfront.net/meetingrecordings/modelevaluation/Slide2.jpeg\" alt=\"LLM capabilities\" width=\"900\" height=\"550\">"
   ]
  },
  {
   "cell_type": "markdown",
   "id": "8822f01a-500d-41cc-892b-7e6986351dde",
   "metadata": {
    "tags": []
   },
   "source": [
    "TO DO: Add guidance/documentation on why we selected the below 3 LLMs for this use case - Harsha - open"
   ]
  },
  {
   "cell_type": "code",
   "execution_count": 102,
   "id": "c9f1edb6-2102-48a2-bede-ffabd3caa462",
   "metadata": {
    "tags": []
   },
   "outputs": [],
   "source": [
    "## 1a. Initialize llm01 = Claude-v2\n",
    "inference_modifier = {\n",
    "    \"max_tokens_to_sample\": 545,\n",
    "    \"temperature\": 0,\n",
    "    \"stop_sequences\": [\"\\n\\nHuman\"],\n",
    "}\n",
    "\n",
    "llm01 = Bedrock( #create a Bedrock llm client\n",
    "    region_name=os.environ.get(\"BEDROCK_REGION_NAME\"), #sets the region name (if not the default)\n",
    "    endpoint_url=os.environ.get(\"BEDROCK_ENDPOINT_URL\"), #sets the endpoint URL (if necessary)\n",
    "    model_id=\"anthropic.claude-v2\",\n",
    "    model_kwargs=inference_modifier\n",
    ")"
   ]
  },
  {
   "cell_type": "code",
   "execution_count": 103,
   "id": "1b23080a-7351-4a7e-a018-bcf5e4bc3ccf",
   "metadata": {
    "tags": []
   },
   "outputs": [],
   "source": [
    "## 1b. Initialize Cohere Command\n",
    "## below is not available yet in langchain, therefore we are creating a custom LLM wrapper\n",
    "\n",
    "#llm02 = Bedrock( #create a Bedrock llm client\n",
    "#    region_name=os.environ.get(\"BEDROCK_REGION_NAME\"),\n",
    "#    endpoint_url=os.environ.get(\"BEDROCK_ENDPOINT_URL\"),\n",
    "#    model_id=\"cohere.command-text-v14\",\n",
    "#)\n",
    "\n",
    "from typing import Any, List, Mapping, Optional\n",
    "from langchain.callbacks.manager import CallbackManagerForLLMRun\n",
    "from langchain.llms.base import LLM\n",
    "\n",
    "class CohereLLM(LLM):\n",
    "    max_tokens: int\n",
    "    temperature: int\n",
    "    \n",
    "    @property\n",
    "    def _identifying_params(self) -> Mapping[str, Any]:\n",
    "        \"\"\"Get the identifying parameters.\"\"\"\n",
    "        return {\"max_tokens\": self.max_tokens,\"temperature\": self.temperature}\n",
    "    \n",
    "    @property\n",
    "    def _llm_type(self) -> str:\n",
    "        return \"cohere.command-text-v14\"\n",
    "\n",
    "    def _call(\n",
    "        self,\n",
    "        prompt: str,\n",
    "        stop: Optional[List[str]] = None,\n",
    "        run_manager: Optional[CallbackManagerForLLMRun] = None,\n",
    "        **kwargs: Any,\n",
    "    ) -> str:\n",
    "        if stop is not None:\n",
    "            raise ValueError(\"stop kwargs are not permitted.\")\n",
    "            \n",
    "        \n",
    "        modelId = 'cohere.command-text-v14' # change this to use a different version from the model provider\n",
    "\n",
    "        accept = '*/*'\n",
    "        contentType = 'application/json'\n",
    "        prompt_data = f\"\"\"Human: {prompt}\n",
    "                         Assistant: \n",
    "                      \"\"\"\n",
    "\n",
    "        model_kwargs = {\n",
    "                        \"max_tokens\": self.max_tokens,\n",
    "                        \"temperature\": self.temperature,\n",
    "\n",
    "                       }\n",
    "        model_kwargs[\"prompt\"] = prompt_data\n",
    "        body = json.dumps(model_kwargs)\n",
    "        response = bedrock_runtime.invoke_model(body=body, modelId=modelId, accept=accept, contentType=contentType)\n",
    "        response_body = json.loads(response.get('body').read())\n",
    "        try:\n",
    "            result = response_body['generations'][0]['text'].strip()\n",
    "        except:\n",
    "            result = ''\n",
    "        return result\n",
    "\n",
    "\n",
    "llm02 = CohereLLM(max_tokens=545,temperature=0)"
   ]
  },
  {
   "cell_type": "code",
   "execution_count": 104,
   "id": "4ee8fa5b-6187-4d6d-a807-a36b001ce08c",
   "metadata": {
    "tags": []
   },
   "outputs": [],
   "source": [
    "## 1c. Initialize SageMaker model - Llama-7B\n",
    "class ContentHandler(LLMContentHandler):\n",
    "    content_type = \"application/json\"\n",
    "    accepts = \"application/json\"\n",
    "\n",
    "    def transform_input(self, prompt: str, model_kwargs: Dict) -> bytes:\n",
    "        input_str = json.dumps({\n",
    "            \"inputs\": [[\n",
    "                {\"role\": \"user\", \"content\": prompt},\n",
    "            ]],\n",
    "            \"parameters\": {\"max_new_tokens\": model_kwargs['max_new_tokens'], \"top_p\": model_kwargs['top_p'], \"temperature\": model_kwargs['temperature']}\n",
    "        })\n",
    "        return input_str.encode(\"utf-8\")\n",
    "\n",
    "    def transform_output(self, output: bytes) -> str:\n",
    "        response_json = json.loads(output.read().decode(\"utf-8\"))\n",
    "        response_json = response_json[0]['generation']['content']\n",
    "        \n",
    "        return response_json\n",
    "\n",
    "content_handler = ContentHandler()\n",
    "\n",
    "llm03=SagemakerEndpoint(\n",
    "     endpoint_name=\"jumpstart-dft-meta-textgeneration-llama-2-7b-f\", \n",
    "     region_name=\"us-east-1\",\n",
    "     model_kwargs={\"max_new_tokens\": 545, \"top_p\": 0.9, \"temperature\": 0},\n",
    "     endpoint_kwargs={\"CustomAttributes\": 'accept_eula=true'},\n",
    "     content_handler=content_handler\n",
    " )"
   ]
  },
  {
   "cell_type": "code",
   "execution_count": 105,
   "id": "d4b8deba-3ad2-4fc1-8674-104440d4145e",
   "metadata": {
    "tags": []
   },
   "outputs": [
    {
     "name": "stdout",
     "output_type": "stream",
     "text": [
      "\u001b[1mInput:\u001b[0m\n",
      "\n",
      "    Amazon operates three main business segments: North America retail sales, International retail sales, and Amazon Web Services (\"AWS\"). \n",
      "\n",
      "    Risk Factors:\n",
      "    - Intense competition globally in all business areas - Amazon competes with various companies including physical retailers, e-commerce companies, technology companies, device makers, digital content creators, delivery/logistics providers, and more. \n",
      "    - International expansion brings regulatory, infrastructure, and operational risks. Amazon must comply with complex regulations abroad and faces limitations related to infrastructure, local business practices, laws, and legal liability.\n",
      "    - Demand fluctuation strains operations. Amazon's business sees seasonal sales spikes that test fulfillment capacity. Failure to meet demand can significantly impact sales.\n",
      "    - Reliance on sellers exposes Amazon to fraud risk. Amazon could face liability for seller violations of policies or fraud. \n",
      "    - Protecting IP is challenging. Amazon relies on IP protections globally but enforcement is difficult. Others claim Amazon infringes their IP rights through litigation. \n",
      "    - Foreign exchange fluctuations impact results. Amazon has extensive international operations and holds foreign cash, so currency changes affect financials.\n",
      "    - Rapid expansion strains resources. Adding employees, products/services and infrastructure complexity taxes Amazon's resources. \n",
      "    - Accounting requires estimates. Financial reporting relies on certain estimates that may prove incorrect over time.\n",
      "    - Competitive hiring is critical. Amazon needs to attract and retain technical and executive talent in a tight labor market.\n",
      "    - Acquisition integration is difficult. Adding companies brings risks during integration and may not meet financial expectations.\n",
      "    - Security threats bring business risk. Amazon faces cyber attacks and threats requiring ongoing security investments.\n",
      "    - Lawsuits and claims may arise. Amazon faces litigation, investigations, and other claims that could result in damages.\n",
      "\n",
      "    Key areas of investment: devices, digital content, international physical/digital retail expansion, AWS growth, advertising, supply chain, and emerging areas like autonomous vehicles.\n",
      "\n",
      "    Given the above information, answer the following question:\n",
      "    What are the three main business units of the company?\n",
      "\n",
      "\u001b[1mBedrock\u001b[0m\n",
      "Params: {}\n",
      "\u001b[36;1m\u001b[1;3m Based on the information provided, the three main business units of Amazon are:\n",
      "\n",
      "1. North America retail sales\n",
      "2. International retail sales  \n",
      "3. Amazon Web Services (AWS)\u001b[0m\n",
      "\n",
      "\u001b[1mCohereLLM\u001b[0m\n",
      "Params: {'max_tokens': 545, 'temperature': 0}\n",
      "\u001b[33;1m\u001b[1;3mThe answer is Amazon operates three main business segments: North America retail sales, International retail sales, and Amazon Web Services (\"AWS\").\u001b[0m\n",
      "\n",
      "\u001b[1mSagemakerEndpoint\u001b[0m\n",
      "Params: {'endpoint_name': 'jumpstart-dft-meta-textgeneration-llama-2-7b-f', 'model_kwargs': {'max_new_tokens': 545, 'top_p': 0.9, 'temperature': 0}}\n",
      "\u001b[38;5;200m\u001b[1;3m Thank you for providing the information about Amazon's business segments. Based on the information provided, the three main business units of Amazon are:\n",
      "\n",
      "1. North America Retail Sales: This includes Amazon's e-commerce business in the United States, Canada, and Mexico.\n",
      "2. International Retail Sales: This includes Amazon's e-commerce business outside of North America, including Europe, Asia, and other international markets.\n",
      "3. Amazon Web Services (AWS): This includes Amazon's cloud computing and other technology services offered to businesses, governments, and other organizations.\n",
      "\n",
      "I hope this answer is helpful! Let me know if you have any other questions.\u001b[0m\n",
      "\n",
      "\u001b[1mInput:\u001b[0m\n",
      "\n",
      "    Amazon operates three main business segments: North America retail sales, International retail sales, and Amazon Web Services (\"AWS\"). \n",
      "\n",
      "    Risk Factors:\n",
      "    - Intense competition globally in all business areas - Amazon competes with various companies including physical retailers, e-commerce companies, technology companies, device makers, digital content creators, delivery/logistics providers, and more. \n",
      "    - International expansion brings regulatory, infrastructure, and operational risks. Amazon must comply with complex regulations abroad and faces limitations related to infrastructure, local business practices, laws, and legal liability.\n",
      "    - Demand fluctuation strains operations. Amazon's business sees seasonal sales spikes that test fulfillment capacity. Failure to meet demand can significantly impact sales.\n",
      "    - Reliance on sellers exposes Amazon to fraud risk. Amazon could face liability for seller violations of policies or fraud. \n",
      "    - Protecting IP is challenging. Amazon relies on IP protections globally but enforcement is difficult. Others claim Amazon infringes their IP rights through litigation. \n",
      "    - Foreign exchange fluctuations impact results. Amazon has extensive international operations and holds foreign cash, so currency changes affect financials.\n",
      "    - Rapid expansion strains resources. Adding employees, products/services and infrastructure complexity taxes Amazon's resources. \n",
      "    - Accounting requires estimates. Financial reporting relies on certain estimates that may prove incorrect over time.\n",
      "    - Competitive hiring is critical. Amazon needs to attract and retain technical and executive talent in a tight labor market.\n",
      "    - Acquisition integration is difficult. Adding companies brings risks during integration and may not meet financial expectations.\n",
      "    - Security threats bring business risk. Amazon faces cyber attacks and threats requiring ongoing security investments.\n",
      "    - Lawsuits and claims may arise. Amazon faces litigation, investigations, and other claims that could result in damages.\n",
      "\n",
      "    Key areas of investment: devices, digital content, international physical/digital retail expansion, AWS growth, advertising, supply chain, and emerging areas like autonomous vehicles.\n",
      "\n",
      "    Given the above information, answer the following question:\n",
      "    What were the company's key areas of investment?\n",
      "\n",
      "\u001b[1mBedrock\u001b[0m\n",
      "Params: {}\n",
      "\u001b[36;1m\u001b[1;3m Based on the information provided, Amazon's key areas of investment were:\n",
      "\n",
      "- Devices - Amazon invests in making devices like Kindle e-readers, Fire tablets, Echo speakers, and Ring security cameras.\n",
      "\n",
      "- Digital content - Amazon invests in digital content like movies, TV shows, music, books, and games for its Prime Video, Amazon Music, Audible, Kindle, and Amazon Appstore offerings.\n",
      "\n",
      "- International physical/digital retail expansion - Amazon invests in expanding its e-commerce operations and physical stores internationally. \n",
      "\n",
      "- AWS growth - Amazon invests heavily in expanding its Amazon Web Services cloud computing business.\n",
      "\n",
      "- Advertising - Amazon is investing in building its advertising business on its platforms.\n",
      "\n",
      "- Supply chain/logistics - Amazon invests billions in fulfillment centers, transportation capabilities, and supply chain technology.\n",
      "\n",
      "- Emerging areas like autonomous vehicles - Amazon invests in R&D for emerging technologies like self-driving vehicles.\u001b[0m\n",
      "\n",
      "\u001b[1mCohereLLM\u001b[0m\n",
      "Params: {'max_tokens': 545, 'temperature': 0}\n",
      "\u001b[33;1m\u001b[1;3mThe answer is Key areas of investment: devices, digital content, international physical/digital retail expansion, AWS growth, advertising, supply chain, and emerging areas like autonomous vehicles.\u001b[0m\n",
      "\n",
      "\u001b[1mSagemakerEndpoint\u001b[0m\n",
      "Params: {'endpoint_name': 'jumpstart-dft-meta-textgeneration-llama-2-7b-f', 'model_kwargs': {'max_new_tokens': 545, 'top_p': 0.9, 'temperature': 0}}\n",
      "\u001b[38;5;200m\u001b[1;3m Based on the information provided, Amazon's key areas of investment are:\n",
      "\n",
      "1. Devices: Amazon has invested in the development and improvement of its devices, such as the Echo smart speaker and the Fire TV stick.\n",
      "2. Digital content: Amazon has invested in the creation and distribution of digital content, including music, movies, and TV shows, through its subsidiary Amazon Studios.\n",
      "3. International retail sales: Amazon has expanded its physical retail presence internationally, including the acquisition of Whole Foods Market in 2017.\n",
      "4. AWS growth: Amazon has invested in the growth of its cloud computing division, Amazon Web Services (AWS), which provides a range of cloud-based services to businesses and organizations.\n",
      "5. Advertising: Amazon has invested in its advertising business, which includes sponsored products and sponsored brands on its platform.\n",
      "6. Supply chain: Amazon has invested in improving its supply chain and logistics capabilities, including the acquisition of the logistics company, Deliveroo.\n",
      "7. Emerging areas: Amazon has also invested in emerging areas such as autonomous vehicles, through its subsidiary, Zoox.\n",
      "\n",
      "It's worth noting that these are the key areas of investment mentioned in the provided information, but Amazon may have other areas of investment as well.\u001b[0m\n",
      "\n",
      "\u001b[1mInput:\u001b[0m\n",
      "\n",
      "    Amazon operates three main business segments: North America retail sales, International retail sales, and Amazon Web Services (\"AWS\"). \n",
      "\n",
      "    Risk Factors:\n",
      "    - Intense competition globally in all business areas - Amazon competes with various companies including physical retailers, e-commerce companies, technology companies, device makers, digital content creators, delivery/logistics providers, and more. \n",
      "    - International expansion brings regulatory, infrastructure, and operational risks. Amazon must comply with complex regulations abroad and faces limitations related to infrastructure, local business practices, laws, and legal liability.\n",
      "    - Demand fluctuation strains operations. Amazon's business sees seasonal sales spikes that test fulfillment capacity. Failure to meet demand can significantly impact sales.\n",
      "    - Reliance on sellers exposes Amazon to fraud risk. Amazon could face liability for seller violations of policies or fraud. \n",
      "    - Protecting IP is challenging. Amazon relies on IP protections globally but enforcement is difficult. Others claim Amazon infringes their IP rights through litigation. \n",
      "    - Foreign exchange fluctuations impact results. Amazon has extensive international operations and holds foreign cash, so currency changes affect financials.\n",
      "    - Rapid expansion strains resources. Adding employees, products/services and infrastructure complexity taxes Amazon's resources. \n",
      "    - Accounting requires estimates. Financial reporting relies on certain estimates that may prove incorrect over time.\n",
      "    - Competitive hiring is critical. Amazon needs to attract and retain technical and executive talent in a tight labor market.\n",
      "    - Acquisition integration is difficult. Adding companies brings risks during integration and may not meet financial expectations.\n",
      "    - Security threats bring business risk. Amazon faces cyber attacks and threats requiring ongoing security investments.\n",
      "    - Lawsuits and claims may arise. Amazon faces litigation, investigations, and other claims that could result in damages.\n",
      "\n",
      "    Key areas of investment: devices, digital content, international physical/digital retail expansion, AWS growth, advertising, supply chain, and emerging areas like autonomous vehicles.\n",
      "\n",
      "    Given the above information, answer the following question:\n",
      "    What is the single most important risk the company faces in the next year?\n",
      "\n",
      "\u001b[1mBedrock\u001b[0m\n",
      "Params: {}\n",
      "\u001b[36;1m\u001b[1;3m Based on the risk factors outlined, I would say that Amazon's most important risk in the next year is likely the intense competition the company faces globally in all of its business segments. \n",
      "\n",
      "Amazon operates in highly competitive markets, competing with various physical and online retailers, technology companies, delivery providers, and more. As new competitors emerge and existing ones expand their offerings, Amazon faces significant pressure to innovate, provide value, and maintain its market position across its retail, devices, content, and cloud computing businesses. \n",
      "\n",
      "Navigating this competitive landscape globally requires massive ongoing investments and strategic focus from Amazon. Failure to compete effectively could lead to loss of market share, lower revenues and profits, and declining brand value over time. Given the rapid pace of change in the industry and Amazon's wide range of competitors, competition represents the most crucial risk the company must manage well in the next year to maintain its leadership.\u001b[0m\n",
      "\n",
      "\u001b[1mCohereLLM\u001b[0m\n",
      "Params: {'max_tokens': 545, 'temperature': 0}\n",
      "\u001b[33;1m\u001b[1;3mThe answer is Amazon faces a number of risks, but the most important one is the risk of international expansion. Amazon has been expanding internationally for years, and while it has been successful in many ways, it has also faced a number of challenges. These challenges include regulatory and infrastructure risks, as well as operational risks. As Amazon continues to expand internationally, it is likely to face even more of these challenges, and it will be important for the company to manage these risks effectively.\u001b[0m\n",
      "\n",
      "\u001b[1mSagemakerEndpoint\u001b[0m\n",
      "Params: {'endpoint_name': 'jumpstart-dft-meta-textgeneration-llama-2-7b-f', 'model_kwargs': {'max_new_tokens': 545, 'top_p': 0.9, 'temperature': 0}}\n",
      "\u001b[38;5;200m\u001b[1;3m Thank you for providing the information about Amazon's business segments and risk factors. Based on the information provided, the single most important risk the company faces in the next year is likely to be intense competition globally in all business areas. Amazon competes with various companies including physical retailers, e-commerce companies, technology companies, device makers, digital content creators, delivery/logistics providers, and more, which can lead to significant competition in all areas of its business. This competition can impact Amazon's market share, pricing power, and overall financial performance.\u001b[0m\n",
      "\n"
     ]
    }
   ],
   "source": [
    "# 1d. Start with a simple example - no prompt template or RAG, just passing the prompts below directly into the LLMs\n",
    "from langchain import LLMChain, HuggingFaceHub, Prompt\n",
    "from langchain.model_laboratory import ModelLaboratory\n",
    "\n",
    "llms = [\n",
    "    llm01,\n",
    "    llm02,\n",
    "    llm03\n",
    "]\n",
    "\n",
    "test_prompts = [ \"What are the three main business units of the company?\",\n",
    "    \"What were the company's key areas of investment?\",\n",
    "    \"What is the single most important risk the company faces in the next year?\"]\n",
    "\n",
    "model_lab = ModelLaboratory.from_llms(llms)\n",
    "\n",
    "for question in test_prompts:\n",
    "    prompt = f\"\"\"\n",
    "    Amazon operates three main business segments: North America retail sales, International retail sales, and Amazon Web Services (\"AWS\"). \n",
    "\n",
    "    Risk Factors:\n",
    "    - Intense competition globally in all business areas - Amazon competes with various companies including physical retailers, e-commerce companies, technology companies, device makers, digital content creators, delivery/logistics providers, and more. \n",
    "    - International expansion brings regulatory, infrastructure, and operational risks. Amazon must comply with complex regulations abroad and faces limitations related to infrastructure, local business practices, laws, and legal liability.\n",
    "    - Demand fluctuation strains operations. Amazon's business sees seasonal sales spikes that test fulfillment capacity. Failure to meet demand can significantly impact sales.\n",
    "    - Reliance on sellers exposes Amazon to fraud risk. Amazon could face liability for seller violations of policies or fraud. \n",
    "    - Protecting IP is challenging. Amazon relies on IP protections globally but enforcement is difficult. Others claim Amazon infringes their IP rights through litigation. \n",
    "    - Foreign exchange fluctuations impact results. Amazon has extensive international operations and holds foreign cash, so currency changes affect financials.\n",
    "    - Rapid expansion strains resources. Adding employees, products/services and infrastructure complexity taxes Amazon's resources. \n",
    "    - Accounting requires estimates. Financial reporting relies on certain estimates that may prove incorrect over time.\n",
    "    - Competitive hiring is critical. Amazon needs to attract and retain technical and executive talent in a tight labor market.\n",
    "    - Acquisition integration is difficult. Adding companies brings risks during integration and may not meet financial expectations.\n",
    "    - Security threats bring business risk. Amazon faces cyber attacks and threats requiring ongoing security investments.\n",
    "    - Lawsuits and claims may arise. Amazon faces litigation, investigations, and other claims that could result in damages.\n",
    "\n",
    "    Key areas of investment: devices, digital content, international physical/digital retail expansion, AWS growth, advertising, supply chain, and emerging areas like autonomous vehicles.\n",
    "\n",
    "    Given the above information, answer the following question:\n",
    "    \"\"\" + question\n",
    "    \n",
    "    model_lab.compare(prompt)"
   ]
  },
  {
   "cell_type": "markdown",
   "id": "c4ad89dc-8071-4f1c-97b0-71b4cefb349e",
   "metadata": {},
   "source": [
    "# 2) use case specific benchmark\n",
    "\n",
    "Now after quickly testing the shortlisted LLMs, let's take the top 3 LLMs based on our initial results and LLM capabilities and perform a use case specific benchmark.\n",
    "\n",
    "In our scenario the top 3 LLMs are Llama 2 13B, Cohere Command, and Anthropic Claude V2."
   ]
  },
  {
   "cell_type": "markdown",
   "id": "5ae175dc-9e2c-4003-bd0d-42c0a5fc6f42",
   "metadata": {
    "tags": []
   },
   "source": [
    "<img src=\"https://d3q8adh3y5sxpk.cloudfront.net/meetingrecordings/modelevaluation/Slide7.jpeg\" alt=\"GeneratePrompts\" width=\"900\" height=\"550\">"
   ]
  },
  {
   "cell_type": "markdown",
   "id": "d26bf212-5755-43ef-b5b6-ebfa3d73213d",
   "metadata": {},
   "source": [
    "For our use case we happen to have labeled ground truth data which we can use for our test. Thus we can leverage classic ML-metrics to evaluate the performance of the different LLM pipelines."
   ]
  },
  {
   "cell_type": "code",
   "execution_count": 124,
   "id": "60611855-58f1-4568-b250-88ed113262e2",
   "metadata": {
    "tags": []
   },
   "outputs": [
    {
     "name": "stdout",
     "output_type": "stream",
     "text": [
      "Index(['question', 'answer'], dtype='object')\n"
     ]
    }
   ],
   "source": [
    "## 2c. download ground truth dataset and insert into dynamodb table promptcatalog with columns prompt, context, output, evalationmetric, created_at,created_by\n",
    "import xmltodict\n",
    "url = 'https://d3q8adh3y5sxpk.cloudfront.net/meetingrecordings/modelevaluationdata/qsdata_200.xml'\n",
    "\n",
    "# Send an HTTP GET request to download the file\n",
    "response = requests.get(url)\n",
    "\n",
    "# Check if the request was successful (HTTP status code 200)\n",
    "if response.status_code == 200:        \n",
    "    xml_data = xmltodict.parse(response.text)\n",
    "\n",
    "# Convert the dictionary to a Pandas DataFrame\n",
    "qa_dataset = pd.DataFrame(xml_data['root']['row'])\n",
    "\n",
    "#show dataframe columns\n",
    "print(qa_dataset.columns)\n",
    "\n",
    "table_name = 'promptcatalog'\n",
    "prompts = []\n",
    "for row in qa_dataset.itertuples():\n",
    "    item = {\n",
    "        'prompt': str(row.question),\n",
    "        'context': 'amazon_10k_2023.pdf',\n",
    "        'output': str(row.answer),\n",
    "        'evaluationmetric': 'Accuracy'\n",
    "    }\n",
    "    prompts.append(item)\n",
    "\n",
    "save_prompts_to_dynamodb_table(table_name, prompts)"
   ]
  },
  {
   "cell_type": "markdown",
   "id": "a192af69-e892-4b15-b81a-cac2e4377b40",
   "metadata": {},
   "source": [
    "If you do not have a ground truth dataset, then you can generate one with the help of a LLM as shown in the following example notebook:  https://github.com/fhuthmacher/NotebookExamples/blob/main/GenerateQuestionsAndAnswers.ipynb"
   ]
  },
  {
   "cell_type": "code",
   "execution_count": 107,
   "id": "11ce0eb2-08e4-4819-8959-f0cbada7ed66",
   "metadata": {},
   "outputs": [],
   "source": [
    "## 2d. download context / Amazon annual report\n",
    "import numpy as np\n",
    "import pypdf\n",
    "from langchain.text_splitter import CharacterTextSplitter, TokenTextSplitter, RecursiveCharacterTextSplitter\n",
    "from langchain.document_loaders import PyPDFLoader, PyPDFDirectoryLoader\n",
    "from urllib.request import urlretrieve\n",
    "\n",
    "os.makedirs(\"data\", exist_ok=True)\n",
    "files = [ \"https://d3q8adh3y5sxpk.cloudfront.net/meetingrecordings/modelevaluationdata/amazon_10k_2023.pdf\"]\n",
    "for url in files:\n",
    "    file_path = os.path.join(\"data\", url.rpartition(\"/\")[2])\n",
    "    urlretrieve(url, file_path)\n",
    "    \n",
    "\n",
    "loader = PyPDFDirectoryLoader(\"./data/\")\n",
    "documents = loader.load()"
   ]
  },
  {
   "cell_type": "code",
   "execution_count": 108,
   "id": "1785eafa-b98f-4530-9ce2-cd3728ec1cef",
   "metadata": {
    "tags": []
   },
   "outputs": [
    {
     "name": "stdout",
     "output_type": "stream",
     "text": [
      "TokenTextSplitter split documents in to 189 chunks.\n",
      "\n",
      "CharacterTextSplitter split documents in to 682 chunks.\n",
      "\n"
     ]
    }
   ],
   "source": [
    "## 2e. Split documents into smaller chunks \n",
    "### Compare results/impact of Character split and TokenTextSplitter\n",
    "\n",
    "token_text_splitter = TokenTextSplitter(chunk_size=500, chunk_overlap=100)\n",
    "char_text_splitter = RecursiveCharacterTextSplitter(chunk_size=500, chunk_overlap=100)\n",
    "\n",
    "token_text_list = token_text_splitter.split_documents(documents)\n",
    "char_text_list = char_text_splitter.split_documents(documents)\n",
    "    \n",
    "print(\"TokenTextSplitter split documents in to \" + str(len(token_text_list)) + \" chunks.\\n\")\n",
    "print(\"CharacterTextSplitter split documents in to \" + str(len(char_text_list)) + \" chunks.\\n\")"
   ]
  },
  {
   "cell_type": "code",
   "execution_count": 109,
   "id": "4cd547b4-0ac3-4db5-a67e-02cae4bd150c",
   "metadata": {
    "tags": []
   },
   "outputs": [],
   "source": [
    "## 2f. create vectors and store them in our vector database (OpenSearch Serverless)\n",
    "### Connect to OpenSearchServerless\n",
    "from opensearchpy import OpenSearch, RequestsHttpConnection, AWSV4SignerAuth\n",
    "\n",
    "host = os.environ['OPENSEARCH_COLLECTION']  # serverless collection endpoint, without https://\n",
    "region = os.environ['OPENSEARCH_REGION']  # e.g. us-east-1\n",
    "\n",
    "service = 'aoss'\n",
    "credentials = boto3.Session().get_credentials()\n",
    "auth = AWSV4SignerAuth(credentials, region, service)\n",
    "\n",
    "aos_client = OpenSearch(\n",
    "    hosts=[{'host': host, 'port': 443}],\n",
    "    http_auth=auth,\n",
    "    use_ssl=True,\n",
    "    verify_certs=True,\n",
    "    connection_class=RequestsHttpConnection,\n",
    "    pool_maxsize=20,\n",
    ")"
   ]
  },
  {
   "cell_type": "code",
   "execution_count": 57,
   "id": "51156bab-2265-4bae-9783-543b4fcf7cb9",
   "metadata": {
    "tags": []
   },
   "outputs": [
    {
     "name": "stdout",
     "output_type": "stream",
     "text": [
      "Recreating index 'llmevaluation' on OpenSearch.\n"
     ]
    }
   ],
   "source": [
    "### Create a index in Amazon Opensearch Service \n",
    "\n",
    "# langchain version\n",
    "knn_index = {\n",
    "    \"settings\": {\n",
    "        \"index.knn\": True,\n",
    "        \n",
    "    },\n",
    "    \"mappings\": {\n",
    "        \"properties\": {\n",
    "            \"vector_field\": {\n",
    "                \"type\": \"knn_vector\",\n",
    "                \"dimension\": 1536,\n",
    "                \"store\": True\n",
    "            },\n",
    "            \"text\": {\n",
    "                \"type\": \"text\",\n",
    "                \"store\": True\n",
    "            },\n",
    "        }\n",
    "    }\n",
    "}\n",
    "\n",
    "index_name = \"llmevaluation\"\n",
    "try:\n",
    "    aos_client.indices.delete(index=index_name)\n",
    "    print(\"Recreating index '\" + index_name + \"' on OpenSearch.\")\n",
    "    aos_client.indices.create(index=index_name,body=knn_index,ignore=400)\n",
    "    aos_client.indices.get(index=index_name)\n",
    "except:\n",
    "    print(\"Index '\" + index_name + \"' not found. Creating index on OpenSearch.\")\n",
    "    aos_client.indices.create(index=index_name,body=knn_index,ignore=400)\n",
    "    aos_client.indices.get(index=index_name)"
   ]
  },
  {
   "cell_type": "code",
   "execution_count": 110,
   "id": "7a6c203c-496f-4d2d-9d3c-420ba8979e06",
   "metadata": {
    "tags": []
   },
   "outputs": [],
   "source": [
    "### Use Titan Embeddings Model to generate embeddings\n",
    "\n",
    "from langchain.embeddings import BedrockEmbeddings\n",
    "from langchain.llms.bedrock import Bedrock\n",
    "\n",
    "# LangChain requires AWS4Auth\n",
    "from requests_aws4auth import AWS4Auth\n",
    "def get_aws4_auth():\n",
    "    region = os.environ.get(\"Region\", os.environ[\"AWS_REGION\"])\n",
    "    service = \"aoss\"\n",
    "    credentials = boto3.Session().get_credentials()\n",
    "    return AWS4Auth(\n",
    "        credentials.access_key,\n",
    "        credentials.secret_key,\n",
    "        region,\n",
    "        service,\n",
    "        session_token=credentials.token,\n",
    "    )\n",
    "aws4_auth = get_aws4_auth()\n",
    "\n",
    "bedrock_embeddings = BedrockEmbeddings(client=bedrock_runtime)\n"
   ]
  },
  {
   "cell_type": "code",
   "execution_count": 91,
   "id": "3efa7f74-9dfa-498c-bbbf-82d5e2dcb7ea",
   "metadata": {
    "tags": []
   },
   "outputs": [
    {
     "name": "stdout",
     "output_type": "stream",
     "text": [
      "ingested 189 documents from source char_text_list to target llmevaluation\n"
     ]
    }
   ],
   "source": [
    "## Insert embeddings into OpenSearch\n",
    "### For Serverless, please note is_aoss=True setting\n",
    "\n",
    "from langchain.vectorstores import OpenSearchVectorSearch\n",
    "\n",
    "full_opensearch_endpoint = 'https://' + os.environ['OPENSEARCH_COLLECTION']\n",
    "    \n",
    "# get embeddings and do insert to OpenSearch. Note: max 500 docs.\n",
    "def opensearch_insert(source_doc_list, target_index_name):\n",
    "    doc_search=OpenSearchVectorSearch.from_documents(\n",
    "            index_name = target_index_name,\n",
    "            documents=source_doc_list,\n",
    "            embedding=bedrock_embeddings,\n",
    "            opensearch_url=full_opensearch_endpoint,\n",
    "            http_auth=auth,\n",
    "            use_ssl=True,\n",
    "            verify_certs=True,\n",
    "            connection_class=RequestsHttpConnection,\n",
    "            timeout=60*3,\n",
    "            bulk_size=1000,\n",
    "            is_aoss=True\n",
    "        )\n",
    "    inserted_doc_length = len(source_doc_list)\n",
    "    input_doclist_name = f'{char_text_list=}'.split('=')[0]\n",
    "    print(f'ingested {inserted_doc_length} documents from source {input_doclist_name} to target {target_index_name}')\n",
    "    return doc_search\n",
    "\n",
    "doc_search=opensearch_insert(source_doc_list=token_text_list, target_index_name=index_name)"
   ]
  },
  {
   "cell_type": "code",
   "execution_count": 111,
   "id": "8c56ef3c-a780-4ecf-856f-d8c5ab5f1f9f",
   "metadata": {
    "tags": []
   },
   "outputs": [
    {
     "name": "stdout",
     "output_type": "stream",
     "text": [
      "Records found: 189.\n"
     ]
    }
   ],
   "source": [
    "### validate load\n",
    "res = aos_client.search(index=index_name, body={\"query\": {\"match_all\": {}}})\n",
    "print(\"Records found: %d.\" % res['hits']['total']['value'])"
   ]
  },
  {
   "cell_type": "code",
   "execution_count": 112,
   "id": "20efbb70-e968-4132-8f66-fd1760ea5941",
   "metadata": {
    "tags": []
   },
   "outputs": [],
   "source": [
    "## 2e. Run prompts, and save responses & accuracy\n",
    "\n",
    "from langchain.prompts import PromptTemplate\n",
    "\n",
    "prompt_template = \"\"\"\n",
    "        Human: Given report provided, please read it and analyse the content.\n",
    "        Please answer the following question: {question} basing the answer only on the information from the report\n",
    "        and return it inside <question_answer></question_answer> XML tags.\n",
    "\n",
    "        If a particular bit of information is not present, return an empty string.\n",
    "        Each returned answer should be concise, remove extra information if possible.\n",
    "        The report will be given between <report></report> XML tags.\n",
    "\n",
    "        <report>\n",
    "        {context}\n",
    "        </report>\n",
    "\n",
    "        Return the answer inside <question_answer></question_answer> XML tags.\n",
    "        Assistant:\"\"\"\n",
    "\n",
    "prompt_template_two = \"\"\"\n",
    "Human: \n",
    "You are a helpful, respectful, and honest assistant, dedicated to providing valuable and accurate information.\n",
    "\n",
    "Assistant:\n",
    "Understood. I will provide information based on the context given, without relying on prior knowledge.\n",
    "\n",
    "Human:\n",
    "If you don't see answer in the context just reply \"not available\" in XML tags.\n",
    "\n",
    "Assistant:\n",
    "Noted. I will respond with \"not available\" if the information is not available in the context.\n",
    "\n",
    "Human:\n",
    "Now read this context and answer the question and return the answer inside <question_answer></question_answer> XML tags. \n",
    "{context}\n",
    "\n",
    "Assistant:\n",
    "Based on the provided context above and information from the retriever source, I will provide the answer in  and return it inside <question_answer></question_answer> XML tags to the below question\n",
    "{question}\n",
    "\"\"\"\n",
    "PROMPT = PromptTemplate(\n",
    "    template=prompt_template_two, input_variables=[\"question\", \"context\"]\n",
    ")\n",
    "\n",
    "## test query\n",
    "#query = \"Who is the CEO of Amazon?\"\n",
    "#qa.run(query)"
   ]
  },
  {
   "cell_type": "code",
   "execution_count": null,
   "id": "4b56466b-f351-4e67-9562-eba7287a0c88",
   "metadata": {},
   "outputs": [],
   "source": [
    "# TO DO: \n",
    "## add different prompt templates and refactor evaluation pipeline to run for all llms"
   ]
  },
  {
   "cell_type": "code",
   "execution_count": null,
   "id": "ee3539d4-4852-48b8-b412-aca750572794",
   "metadata": {
    "tags": []
   },
   "outputs": [],
   "source": [
    "### run all LLMs through qa catalog\n",
    "\n",
    "from langchain.chains import RetrievalQA\n",
    "\n",
    "promptsdf = pd.DataFrame(prompts)\n",
    "\n",
    "predictions = []\n",
    "for llm in llms:\n",
    "    for row in promptsdf.itertuples():\n",
    "        query = row.prompt\n",
    "        qa = RetrievalQA.from_chain_type(\n",
    "                llm=llm,\n",
    "                chain_type=\"stuff\",\n",
    "                retriever=doc_search.as_retriever(),\n",
    "                chain_type_kwargs = {\"prompt\": PROMPT}\n",
    "            )\n",
    "        result = qa.run(query)\n",
    "        \n",
    "        llm_name = ''\n",
    "        try:\n",
    "            llm_name = str(llm.model_id)\n",
    "        except:\n",
    "            try:\n",
    "                llm_name = str(llm.endpoint_name)\n",
    "            except:\n",
    "                try:\n",
    "                    llm_name = str(llm._llm_type)\n",
    "                except:\n",
    "                    pass\n",
    "            \n",
    "        predictions.append({\n",
    "                \"query\": row.prompt,\n",
    "                \"llm\": str(llm_name),\n",
    "                \"context\": 'amazon_10k_2023.pdf',\n",
    "                \"output\": str(result),\n",
    "                \"trainingoutput\": str(row.output),\n",
    "                \"evaluationmetric\": \"\",\n",
    "                \"score\": \"\",\n",
    "                \"feedback\": \"\"\n",
    "        })"
   ]
  },
  {
   "cell_type": "code",
   "execution_count": 135,
   "id": "8f3471e2-87df-4821-a675-64afb48b90fc",
   "metadata": {
    "tags": []
   },
   "outputs": [],
   "source": [
    "### 3a. LLM evaluation using StringEvaluator\n",
    "from typing import Optional\n",
    "from langsmith.evaluation import StringEvaluator\n",
    "\n",
    "def jaccard_chars(output: str, answer: str) -> float:\n",
    "    try:\n",
    "        \"\"\"Naive Jaccard similarity between two strings.\"\"\"\n",
    "        prediction_chars = set(output.strip().lower())\n",
    "        answer_chars = set(answer.strip().lower())\n",
    "        intersection = prediction_chars.intersection(answer_chars)\n",
    "        union = prediction_chars.union(answer_chars)\n",
    "        return len(intersection) / len(union)\n",
    "    except:\n",
    "        return 1\n",
    " \n",
    "def grader(run_input: str, run_output: str, answer: Optional[str]) -> dict:\n",
    "    \"\"\"Compute the score and/or label for this run.\"\"\"\n",
    "    if answer is None:\n",
    "        value = \"AMBIGUOUS\"\n",
    "        score = 0.5\n",
    "    else:\n",
    "        score = jaccard_chars(run_output, answer)\n",
    "        value = \"CORRECT\" if score > 0.9 else \"INCORRECT\"\n",
    "    return dict(score=score, value=value)\n",
    "            \n",
    "string_eval_predictions = []\n",
    "for prediction in predictions:\n",
    "        evaluation_result = grader(prediction['query'], prediction['output'], prediction['trainingoutput'])    \n",
    "        string_eval_predictions.append({\n",
    "                \"query\": prediction['query'],\n",
    "                \"llm\": prediction['llm'],\n",
    "                \"context\": 'amazon_10k_2023.pdf',\n",
    "                \"output\": prediction['output'],\n",
    "                \"trainingoutput\": prediction['trainingoutput'],\n",
    "                \"evaluationmetric\": \"Naive Jaccard similarity between two strings\",\n",
    "                \"score\": str(evaluation_result['value']),\n",
    "                \"feedback\": \"similarity score= \" + str(evaluation_result['score']),\n",
    "            })"
   ]
  },
  {
   "cell_type": "code",
   "execution_count": 156,
   "id": "8a1776ba-96a1-41a5-94aa-44c809482469",
   "metadata": {
    "tags": []
   },
   "outputs": [
    {
     "name": "stdout",
     "output_type": "stream",
     "text": [
      "Total # of chunks 10\n",
      "starting chunk 0\n",
      "starting chunk 1\n",
      "starting chunk 2\n",
      "starting chunk 3\n",
      "starting chunk 4\n",
      "starting chunk 5\n",
      "starting chunk 6\n",
      "starting chunk 7\n",
      "starting chunk 8\n",
      "starting chunk 9\n"
     ]
    }
   ],
   "source": [
    "### 3b. LLM evaluation using a mechanism for LLM-assisted evaluation to compare and score the responses \n",
    "### with the help of LLMs using langchain QAEvalChain\n",
    "\n",
    "from langchain.chat_models import BedrockChat\n",
    "from langchain.evaluation.qa import QAEvalChain\n",
    "import time\n",
    "inference_modifier = {\n",
    "    \"max_tokens_to_sample\": 545,\n",
    "    \"temperature\": 0,\n",
    "    \"top_k\": 250,\n",
    "    \"top_p\": 1,\n",
    "    \"stop_sequences\": [\"\\n\\nHuman\"],\n",
    "}\n",
    "\n",
    "llm = BedrockChat(model_id=\"anthropic.claude-v2\", model_kwargs=inference_modifier)\n",
    "\n",
    "eval_chain = QAEvalChain.from_llm(llm)\n",
    "\n",
    "qa_list = [{'query': item['query'], 'answer': item['trainingoutput']} for item in predictions]\n",
    "\n",
    "## to avoid read timeouts split qa_list into 50 records chunks \n",
    "## and execute eval_chain_evaluate function for each chunk with a wait period in betwwen\n",
    "chunk_size = 50\n",
    "graded_outputs = []\n",
    "qa_chunks = [qa_list[i:i + chunk_size] for i in range(0, len(qa_list), chunk_size)]\n",
    "qa_predictions = [predictions[i:i + chunk_size] for i in range(0, len(predictions), chunk_size)]\n",
    "\n",
    "i = 0\n",
    "print(f'Total # of chunks {len(qa_chunks)}')\n",
    "while i < len(qa_chunks):\n",
    "    print(f'starting chunk {i}')\n",
    "    try:\n",
    "        graded_output_chunk = eval_chain.evaluate(qa_chunks[i], qa_predictions[i], question_key = 'query', prediction_key = 'output')\n",
    "        graded_outputs.append(graded_output_chunk)\n",
    "        # wait between each chunk\n",
    "        time.sleep(60)\n",
    "    except:\n",
    "        print('going to next chunk')\n",
    "        continue\n",
    "    i+=1\n",
    "    \n",
    "# graded_outputs = eval_chain.evaluate(qa_list, predictions, question_key = 'query', prediction_key = 'output')"
   ]
  },
  {
   "cell_type": "code",
   "execution_count": 163,
   "id": "c56c1409-b9aa-463f-abd7-b56edf725d38",
   "metadata": {
    "tags": []
   },
   "outputs": [],
   "source": [
    "### 3c. Store LLM evaluated metrics in llmevaluationresults table\n",
    "llm_eval_predictions=[]\n",
    "graded_outputs_flat = [item for sublist in graded_outputs for item in sublist]\n",
    "\n",
    "for i, eg in enumerate(graded_outputs_flat):\n",
    "    grade = ''\n",
    "    try:\n",
    "        if 'GRADE: INCORRECT' in str(graded_outputs_flat[i]['results']):\n",
    "            grade = 'INCORRECT'\n",
    "        else:\n",
    "            grade = 'CORRECT'  \n",
    "    except:\n",
    "        print('failed to extract grade')\n",
    "\n",
    "    llm_eval_predictions.append({\n",
    "                \"query\": predictions[i]['query'],\n",
    "                \"llm\": predictions[i]['llm'],\n",
    "                \"context\": predictions[i]['context'],\n",
    "                \"output\": predictions[i]['output'],\n",
    "                \"trainingoutput\": predictions[i]['trainingoutput'],\n",
    "                \"evaluationmetric\": \"LLM-assisted evaluation with Claude\",\n",
    "                \"score\": grade,\n",
    "                \"feedback\": str(graded_outputs_flat[i]['results'])\n",
    "            })"
   ]
  },
  {
   "cell_type": "markdown",
   "id": "4015ff5e-ddb2-4b3e-a5f6-01d586d8a25c",
   "metadata": {},
   "source": [
    "LLM-assisted evaluation provides significant better evaluation results compared to string evaluation. Yet it does not require insights into Faithfulness, Context Precision,Context Recall, Answer Relevancy,or Aspect Critiques), which would be helpful for a RAG use case like this. This is where libraries like ragas-langsmith can be helpful (requires an OpenAI API key)."
   ]
  },
  {
   "cell_type": "markdown",
   "id": "055540da-ea14-449d-874e-007930d40f49",
   "metadata": {
    "tags": []
   },
   "source": [
    "<img src=\"https://d3q8adh3y5sxpk.cloudfront.net/meetingrecordings/modelevaluation/Slide8.jpeg\" alt=\"EvaluatingResults\" width=\"900\" height=\"550\">"
   ]
  },
  {
   "cell_type": "code",
   "execution_count": 229,
   "id": "201872ff-fac2-4104-b0dd-8ecaa25cff32",
   "metadata": {
    "tags": []
   },
   "outputs": [
    {
     "data": {
      "text/html": [
       "<div>\n",
       "<style scoped>\n",
       "    .dataframe tbody tr th:only-of-type {\n",
       "        vertical-align: middle;\n",
       "    }\n",
       "\n",
       "    .dataframe tbody tr th {\n",
       "        vertical-align: top;\n",
       "    }\n",
       "\n",
       "    .dataframe thead th {\n",
       "        text-align: right;\n",
       "    }\n",
       "</style>\n",
       "<table border=\"1\" class=\"dataframe\">\n",
       "  <thead>\n",
       "    <tr style=\"text-align: right;\">\n",
       "      <th></th>\n",
       "      <th>llm</th>\n",
       "      <th>TOTAL_Count</th>\n",
       "      <th>CORRECT_Count</th>\n",
       "      <th>INCORRECT_Count</th>\n",
       "      <th>llm_eval_accuracy</th>\n",
       "    </tr>\n",
       "  </thead>\n",
       "  <tbody>\n",
       "    <tr>\n",
       "      <th>0</th>\n",
       "      <td>anthropic.claude-v2</td>\n",
       "      <td>196</td>\n",
       "      <td>14</td>\n",
       "      <td>182</td>\n",
       "      <td>0.071429</td>\n",
       "    </tr>\n",
       "    <tr>\n",
       "      <th>196</th>\n",
       "      <td>cohere.command-text-v14</td>\n",
       "      <td>196</td>\n",
       "      <td>18</td>\n",
       "      <td>178</td>\n",
       "      <td>0.091837</td>\n",
       "    </tr>\n",
       "    <tr>\n",
       "      <th>392</th>\n",
       "      <td>jumpstart-dft-meta-textgeneration-llama-2-7b-f</td>\n",
       "      <td>79</td>\n",
       "      <td>1</td>\n",
       "      <td>78</td>\n",
       "      <td>0.012658</td>\n",
       "    </tr>\n",
       "  </tbody>\n",
       "</table>\n",
       "</div>"
      ],
      "text/plain": [
       "                                                llm  TOTAL_Count  \\\n",
       "0                               anthropic.claude-v2          196   \n",
       "196                         cohere.command-text-v14          196   \n",
       "392  jumpstart-dft-meta-textgeneration-llama-2-7b-f           79   \n",
       "\n",
       "     CORRECT_Count  INCORRECT_Count  llm_eval_accuracy  \n",
       "0               14              182           0.071429  \n",
       "196             18              178           0.091837  \n",
       "392              1               78           0.012658  "
      ]
     },
     "execution_count": 229,
     "metadata": {},
     "output_type": "execute_result"
    }
   ],
   "source": [
    "### 3d. evaluating overall model accuracy\n",
    "\n",
    "# Count the number of CORRECT and INCORRECT evaluations for each LLM and evaluation method\n",
    "llm_eval_predictions_df = pd.DataFrame(llm_eval_predictions)\n",
    "\n",
    "# get value of grouby column\n",
    "llm_eval_predictions_df['llm'] = llm_eval_predictions_df['llm'].str.strip()\n",
    "llm_eval_predictions_df['CORRECT_Count'] = llm_eval_predictions_df.groupby('llm')['score'].transform(lambda x: (x == 'CORRECT').sum())\n",
    "llm_eval_predictions_df['INCORRECT_Count'] = llm_eval_predictions_df.groupby('llm')['score'].transform(lambda x: (x == 'INCORRECT').sum())\n",
    "llm_eval_predictions_df['llm_eval_accuracy'] = llm_eval_predictions_df['CORRECT_Count'] / (llm_eval_predictions_df['CORRECT_Count'] + llm_eval_predictions_df['INCORRECT_Count'])\n",
    "llm_eval_predictions_df['TOTAL_Count'] = llm_eval_predictions_df['CORRECT_Count'] + llm_eval_predictions_df['INCORRECT_Count']\n",
    "\n",
    "# remove all columns from dataframe except columns TOTAL_Count, CORRECT_Count, INCORRECT_Count, llm_eval_accuracy\n",
    "llm_eval_predictions_df = llm_eval_predictions_df[['llm','TOTAL_Count', 'CORRECT_Count', 'INCORRECT_Count', 'llm_eval_accuracy']]\n",
    "\n",
    "#remove all duplicate rows from llm_eval_predictions_df\n",
    "llm_eval_predictions_df = llm_eval_predictions_df.drop_duplicates()\n",
    "\n",
    "# Count the number of CORRECT and INCORRECT evaluations for each LLM and evaluation method\n",
    "string_eval_predictions_df = pd.DataFrame(string_eval_predictions)\n",
    "\n",
    "# get value of grouby column\n",
    "string_eval_predictions_df['llm'] = string_eval_predictions_df['llm'].str.strip()\n",
    "string_eval_predictions_df['CORRECT_Count'] = string_eval_predictions_df.groupby('llm')['score'].transform(lambda x: (x == 'CORRECT').sum())\n",
    "string_eval_predictions_df['INCORRECT_Count'] = string_eval_predictions_df.groupby('llm')['score'].transform(lambda x: (x == 'INCORRECT').sum())\n",
    "string_eval_predictions_df['llm_eval_accuracy'] = string_eval_predictions_df['CORRECT_Count'] / (string_eval_predictions_df['CORRECT_Count'] + string_eval_predictions_df['INCORRECT_Count'])\n",
    "string_eval_predictions_df['TOTAL_Count'] = string_eval_predictions_df['CORRECT_Count'] + string_eval_predictions_df['INCORRECT_Count']\n",
    "\n",
    "# remove all columns from dataframe except columns TOTAL_Count, CORRECT_Count, INCORRECT_Count, llm_eval_accuracy\n",
    "string_eval_predictions_df = string_eval_predictions_df[['llm','TOTAL_Count', 'CORRECT_Count', 'INCORRECT_Count', 'llm_eval_accuracy']]\n",
    "\n",
    "#remove all duplicate rows from llm_eval_predictions_df\n",
    "string_eval_predictions_df = string_eval_predictions_df.drop_duplicates()\n",
    "\n",
    "# show first 4 rows from llm_eval_predictions_df\n",
    "string_eval_predictions_df.head(4)\n",
    "\n",
    "# show first 4 rows from llm_eval_predictions_df\n",
    "#llm_eval_predictions_df.head(4)"
   ]
  },
  {
   "cell_type": "code",
   "execution_count": 258,
   "id": "8240c17e-081d-44f0-a9dc-8fc5448d49eb",
   "metadata": {
    "tags": []
   },
   "outputs": [
    {
     "data": {
      "image/png": "[encoded data removed]",
      "text/plain": [
       "<Figure size 640x480 with 1 Axes>"
      ]
     },
     "metadata": {},
     "output_type": "display_data"
    }
   ],
   "source": [
    "### 3e. visualize model accuracy\n",
    "# plot each row' accuracy column in overall_accuracy with matplotlib\n",
    "\n",
    "\n",
    "import matplotlib.pyplot as plt\n",
    "import pandas as pd\n",
    "import numpy as np\n",
    "\n",
    "categories = [\"NaiveJaccardSimilarity\", \"LLMEval\"]\n",
    "dataprep = []\n",
    "for index, row in llm_eval_predictions_df.iterrows():\n",
    "    llm_name = row['llm']\n",
    "    result_df = string_eval_predictions_df[string_eval_predictions_df['llm'] == llm_name]\n",
    "    value = result_df.loc[index, 'llm_eval_accuracy']\n",
    "    dataprep.append([llm_name, pd.to_numeric(value), pd.to_numeric(row['llm_eval_accuracy'])])\n",
    "\n",
    "data = {\n",
    "    'EvaluationMethod': [\"NaiveJaccardSimilarity\", \"LLMEval\"],\n",
    "    dataprep[0][0] : dataprep[0][1:],\n",
    "    dataprep[1][0]: dataprep[1][1:],\n",
    "    dataprep[2][0]: dataprep[2][1:]\n",
    "}\n",
    "\n",
    "df = pd.DataFrame(data)\n",
    "\n",
    "# Set the width of the bars and the number of series\n",
    "num_series = len(df.columns) - 1  # Subtract 1 to exclude the 'Category' column\n",
    "bar_width = 0.2\n",
    "bar_positions = np.arange(len(df))\n",
    "\n",
    "# Create a figure and axis\n",
    "fig, ax = plt.subplots()\n",
    "\n",
    "# Plot each series\n",
    "for i, col in enumerate(df.columns[1:]):\n",
    "    offset = (i - (num_series - 1) / 2) * bar_width\n",
    "    ax.bar(bar_positions + offset, df[col], width=bar_width, label=col)\n",
    "\n",
    "# Set x-axis labels\n",
    "ax.set_xticks(bar_positions)\n",
    "ax.set_xticklabels(df['EvaluationMethod'])\n",
    "\n",
    "# Labeling and legend\n",
    "ax.set_xlabel('Model Evaliation')\n",
    "ax.set_ylabel('Accuracy')\n",
    "ax.set_title('LLM Accuracy')\n",
    "ax.legend()\n",
    "\n",
    "# Show the chart\n",
    "plt.tight_layout()  # Optional: Adjust layout for better spacing\n",
    "plt.show()\n"
   ]
  },
  {
   "cell_type": "markdown",
   "id": "dd243dfa-7eab-4916-868b-243f57af4003",
   "metadata": {
    "tags": []
   },
   "source": [
    "<img src=\"https://d3q8adh3y5sxpk.cloudfront.net/meetingrecordings/modelevaluation/Slide9.jpeg\" alt=\"EvaluatingResults\" width=\"900\" height=\"550\">"
   ]
  },
  {
   "cell_type": "markdown",
   "id": "b361cb74-6902-491a-9e4f-33f67c605304",
   "metadata": {},
   "source": [
    "TO DO: Add guidance/documentation (along the lines of cost,performance, accuracy) - Harsha - open"
   ]
  },
  {
   "cell_type": "markdown",
   "id": "1c6c8ca6-57c0-4422-984f-03bef10f2c63",
   "metadata": {},
   "source": [
    "# What can be improved in the evaluation strategy?\n",
    "- Use other metrics than accuracy. Maybe a semantic similarity metric like the one proposed in \"Semantic Answer Similarity for Evaluating Question Answering Models\" (arXiv:2108.06130).\n",
    "\n",
    "- Evaluate each component of the system (see options above) in isolation. For example evaluate the retrieval system/strategy separately and not just the entire pipeline as a whole. You could evaluate the retrieval system by saving the chunks that were used/are relevant for the actual answer alongside with the questions and answers in the evaluation dataset. Then you can compare/evaluate which top k chunks are being selected during the evaluation and whether or not the retriever selected a chunk with the source truth and at which rank and experiment with the different retriever options and chain types.\n",
    "\n",
    "- Explore parsers/tools in conjunction with LLMs, e.g. eparse (https://github.com/ChrisPappalardo/eparse), unstructured (https://github.com/Unstructured-IO/unstructured), and/or Kor (https://eyurtsev.github.io/kor/tutorial.html)\n",
    "\n",
    "- Incorporate other dimensions such as performance/latency and cost in more detail into the evaluation as well to derive at a cost performance benchmark"
   ]
  },
  {
   "cell_type": "markdown",
   "id": "3b6879cd-dee2-49b9-89bc-e15f5479adc0",
   "metadata": {},
   "source": [
    "# Conclusion\n",
    "- LLMs are here to stay, and the evaluation of LLMs is still evolving, with new research and tooling being released on a regular basis.\n",
    "- While this notebook focused on LLM accuracy, it also highlights the importance of other dimesions such as cost and latency, and outlines a practical approach to model evaluation."
   ]
  },
  {
   "cell_type": "markdown",
   "id": "056f0737-9867-4935-94f6-e9bc148ac954",
   "metadata": {},
   "source": [
    "### SCRATCH"
   ]
  },
  {
   "cell_type": "code",
   "execution_count": 13,
   "id": "845a991f-9e6a-48f2-adb1-4da765b1e14c",
   "metadata": {
    "tags": []
   },
   "outputs": [],
   "source": [
    "### alternative version without langchain for creating embeddings\n",
    "\n",
    "def get_embedding(body, modelId, accept, contentType):\n",
    "    response = bedrock_runtime.invoke_model(body=body, modelId=modelId, accept=accept, contentType=contentType)\n",
    "    response_body = json.loads(response.get('body').read())\n",
    "    embedding = response_body.get('embedding')\n",
    "    return embedding\n",
    "\n",
    "def embed_phrase(phrase):\n",
    "    body = json.dumps({\"inputText\": str(phrase)})\n",
    "    modelId = 'amazon.titan-embed-text-v1' #'amazon.titan-e1t-medium' # not available yet\n",
    "    contentType = 'application/json'\n",
    "    accept = 'application/json'\n",
    "    embedding = get_embedding(body, modelId, accept, contentType)\n",
    "    return embedding\n",
    "    \n",
    "def os_import(record, aos_client, index_name):\n",
    "    search_vector = embed_phrase(record)\n",
    "    aos_client.index(index=index_name,\n",
    "             body={\"vector_field\": search_vector,\n",
    "                   \"text\": record\n",
    "                  },\n",
    "            request_timeout=60*3,  # 3 minutes\n",
    "            )\n",
    "\n",
    "def query_opensearch(index_name, phrase, n=1):\n",
    "    search_vector = embed_phrase(phrase)\n",
    "    osquery={\n",
    "        \"_source\": {\n",
    "            \"exclude\": [ \"vector_field\" ]\n",
    "        },\n",
    "        \n",
    "      \"size\": n,\n",
    "      \"query\": {\n",
    "        \"knn\": {\n",
    "          \"vector_field\": {\n",
    "            \"vector\":search_vector,\n",
    "            \"k\":n\n",
    "          }\n",
    "        }\n",
    "      }\n",
    "    }\n",
    "\n",
    "    res = aos_client.search(index=index_name, \n",
    "                           body=osquery,\n",
    "                           stored_fields=[\"text\"],\n",
    "                           explain = True)\n",
    "    print(res)\n",
    "    result = {\n",
    "            \"text\":\"\"\n",
    "        }\n",
    "    if res['hits']['hits']:\n",
    "        top_result = res['hits']['hits'][0]\n",
    "    \n",
    "        result = {\n",
    "            \"text\":top_result['_source']['text'],\n",
    "\n",
    "        }\n",
    "    \n",
    "    return result\n",
    "\n",
    "\n",
    "### test embedding\n",
    "#embed_phrase(\"pairs well with chocolate\")\n",
    "\n",
    "# test insert\n",
    "# token_text_list\n",
    "#for record in char_text_list: \n",
    "#    #print(record.page_content)\n",
    "#    os_import(record.page_content, aos_client, index_name)\n",
    "\n",
    "#for record in token_text_list: \n",
    "    #print(record.page_content)\n",
    "#    os_import(record.page_content, aos_client, index_name)\n",
    "    \n",
    "#for record in token_text_list: \n",
    "#    print(record.page_content)"
   ]
  },
  {
   "cell_type": "code",
   "execution_count": 35,
   "id": "299f3f70-a164-4d36-9898-ba45d9898e59",
   "metadata": {
    "tags": []
   },
   "outputs": [
    {
     "name": "stdout",
     "output_type": "stream",
     "text": [
      "{\"generated_text\": \" The A3 is a compact car that is a lot more than just a compact car. It's a compact car that is a lot more than just a compact car. It's a compact car that is a lot more than just a compact car. It's a compact car that is a lot more than just a compact car. It's a compact car that is a lot more than just a compact car. It's a compact car that is a lot more than just a compact car. It's a compact car that is a lot more than just a compact car. It's a compact car\"}\n"
     ]
    }
   ],
   "source": [
    "# SageMaker endpoint query\n",
    "\n",
    "sm_client = boto3.client(\"sagemaker\")\n",
    "smr_client = boto3.client(\"sagemaker-runtime\")\n",
    "from sagemaker.predictor import Predictor\n",
    "\n",
    "def query_endpoint(payload, endpoint_name):\n",
    "    \"\"\"Query endpoint and print the response\"\"\"\n",
    "\n",
    "    response_model = smr_client.invoke_endpoint(\n",
    "        EndpointName=endpoint_name,\n",
    "        Body=payload,\n",
    "        ContentType=\"application/json\",\n",
    "    )\n",
    "\n",
    "    generated_text = response_model[\"Body\"].read().decode(\"utf8\")\n",
    "    print(generated_text)\n",
    "\n",
    "\n",
    "payload = json.dumps(\n",
    "    {\n",
    "        \"inputs\": \"What is so special about Amazon?\",\n",
    "        \"parameters\": {\"max_new_tokens\": 126, \"no_repeat_ngram_size\": 3},\n",
    "    }\n",
    ")\n",
    "\n",
    "endpoint_name = \"lmi-model-falcon-7b-2023-08-27-17-52-54-260\"\n",
    "query_endpoint(payload, endpoint_name)"
   ]
  },
  {
   "cell_type": "code",
   "execution_count": 28,
   "id": "15756e76-511a-4928-a5db-c80ac84c56bf",
   "metadata": {
    "tags": []
   },
   "outputs": [],
   "source": [
    "# bedrock helper methods for langchain\n",
    "\n",
    "def get_inference_parameters(model): #return a default set of parameters based on the model's provider\n",
    "    bedrock_model_provider = model.split('.')[0] #grab the model provider from the first part of the model id\n",
    "    \n",
    "    if (bedrock_model_provider == 'anthropic'): #Anthropic model\n",
    "        return { #anthropic\n",
    "            \"max_tokens_to_sample\": 545,\n",
    "            \"temperature\": 0, \n",
    "            \"top_k\": 250, \n",
    "            \"top_p\": 1, \n",
    "            \"stop_sequences\": [\"\\n\\nHuman:\"] \n",
    "           }\n",
    "    \n",
    "    elif (bedrock_model_provider == 'ai21'): #AI21\n",
    "        return { #AI21\n",
    "            \"maxTokens\": 545, \n",
    "            \"temperature\": 0, \n",
    "            \"topP\": 0.5, \n",
    "            \"stopSequences\": [], \n",
    "            \"countPenalty\": {\"scale\": 0 }, \n",
    "            \"presencePenalty\": {\"scale\": 0 }, \n",
    "            \"frequencyPenalty\": {\"scale\": 0 } \n",
    "           }\n",
    "\n",
    "    elif (bedrock_model_provider == 'cohere'):\n",
    "        \n",
    "        return { \n",
    "            \"max_tokens\": 545, \n",
    "            \"temperature\": 0, \n",
    "            \"return_likelihood\": \"GENERATION\",\n",
    "            \"stop_sequences\": [\"\\n\\nHuman:\"],\n",
    "            \n",
    "           }\n",
    "    \n",
    "    else: #Amazon\n",
    "        #For the LangChain Bedrock implementation, these parameters will be added to the \n",
    "        #textGenerationConfig item that LangChain creates for us\n",
    "        return { \n",
    "            \"maxTokenCount\": 545, \n",
    "            \"stopSequences\": [], \n",
    "            \"temperature\": 0, \n",
    "            \"topP\": 0.9 \n",
    "        }\n",
    "\n",
    "def get_text_response(model, input_content): #text-to-text client function\n",
    "    \n",
    "    model_kwargs = get_inference_parameters(model) #get the default parameters based on the selected model\n",
    "    \n",
    "    llm = Bedrock( #create a Bedrock llm client\n",
    "        region_name=os.environ.get(\"BEDROCK_REGION_NAME\"), #sets the region name (if not the default)\n",
    "        endpoint_url=os.environ.get(\"BEDROCK_ENDPOINT_URL\"), #sets the endpoint URL (if necessary)\n",
    "        model_id=model, #use the requested model\n",
    "        model_kwargs = model_kwargs\n",
    "    )\n",
    "    return llm.predict(input_content) #return a response to the prompt"
   ]
  },
  {
   "cell_type": "code",
   "execution_count": null,
   "id": "107a0857-eb00-46cd-8795-ce3333d2b680",
   "metadata": {
    "tags": []
   },
   "outputs": [],
   "source": [
    "# invoke Bedrock models with langchain helper method\n",
    "# cohere.command-text-v14\n",
    "# amazon.titan-text-express-v1\n",
    "# anthropic.claude-v2\n",
    "start = time.time()\n",
    "response = get_text_response(\"anthropic.claude-v2\", \"What is a donut?\")\n",
    "print(response)\n",
    "\n",
    "end = time.time()\n",
    "print(end - start)"
   ]
  },
  {
   "cell_type": "code",
   "execution_count": 32,
   "id": "53a2abe7-0968-4a38-a93c-dd9501e25f81",
   "metadata": {
    "tags": []
   },
   "outputs": [
    {
     "name": "stdout",
     "output_type": "stream",
     "text": [
      "{'generations': [{'id': '4c74edb9-bcd1-48f3-8370-a48896e7b9bb', 'text': ' A donut, or doughnut, is a small fried cake of sweetened dough. Donuts are usually ring-shaped, and typically have a hole in the center. Donuts are popular around the world and are enjoyed by many people. \\n\\nThere are many different types of donuts, including:\\n\\n- Cake donuts, which are made from a cake-like batter and are typically smaller and more dense than other types of donuts.\\n- Yeast donuts, which are made from a yeast dough and are often larger and fluffier than cake donuts.\\n- Filled donuts, which are donuts that are injected with a filling, such as jelly or cream.\\n- Frosted donuts, which are donuts that are topped with a frosting, such as chocolate or vanilla.\\n- Glazed donuts, which are donuts that are coated with a glaze, such as a sugar or honey glaze.\\n\\nDonuts are often served as a dessert or a snack, and are often accompanied by coffee or other beverages. They can be purchased from donut shops, supermarkets, and other food retailers.'}], 'id': '2b903489-f521-4ff5-a876-01d42750bc89', 'prompt': 'Human: What is a donut?\\n                 Assistant: \\n              '}\n",
      "None\n"
     ]
    }
   ],
   "source": [
    "# invoke Bedrock model\n",
    "# cohere.command-text-v14\n",
    "# amazon.titan-text-express-v1\n",
    "# anthropic.claude-v2\n",
    "import json\n",
    "modelId = 'cohere.command-text-v14' # change this to use a different version from the model provider\n",
    "\n",
    "accept = '*/*'\n",
    "contentType = 'application/json'\n",
    "\n",
    "prompt_data = \"\"\"Human: What is a donut?\n",
    "                 Assistant: \n",
    "              \"\"\"\n",
    "\n",
    "model_kwargs = {\n",
    "                \"max_tokens\": 545,\n",
    "                \"temperature\": 0,\n",
    "                \n",
    "               }\n",
    "               \n",
    "model_kwargs[\"prompt\"] = prompt_data\n",
    "body = json.dumps(model_kwargs)\n",
    "\n",
    "response = bedrock_runtime.invoke_model(body=body, modelId=modelId, accept=accept, contentType=contentType)\n",
    "response_body = json.loads(response.get('body').read())\n",
    "print(response_body)\n",
    "print(response_body.get('completion'))"
   ]
  }
 ],
 "metadata": {
  "availableInstances": [
   {
    "_defaultOrder": 0,
    "_isFastLaunch": true,
    "category": "General purpose",
    "gpuNum": 0,
    "hideHardwareSpecs": false,
    "memoryGiB": 4,
    "name": "ml.t3.medium",
    "vcpuNum": 2
   },
   {
    "_defaultOrder": 1,
    "_isFastLaunch": false,
    "category": "General purpose",
    "gpuNum": 0,
    "hideHardwareSpecs": false,
    "memoryGiB": 8,
    "name": "ml.t3.large",
    "vcpuNum": 2
   },
   {
    "_defaultOrder": 2,
    "_isFastLaunch": false,
    "category": "General purpose",
    "gpuNum": 0,
    "hideHardwareSpecs": false,
    "memoryGiB": 16,
    "name": "ml.t3.xlarge",
    "vcpuNum": 4
   },
   {
    "_defaultOrder": 3,
    "_isFastLaunch": false,
    "category": "General purpose",
    "gpuNum": 0,
    "hideHardwareSpecs": false,
    "memoryGiB": 32,
    "name": "ml.t3.2xlarge",
    "vcpuNum": 8
   },
   {
    "_defaultOrder": 4,
    "_isFastLaunch": true,
    "category": "General purpose",
    "gpuNum": 0,
    "hideHardwareSpecs": false,
    "memoryGiB": 8,
    "name": "ml.m5.large",
    "vcpuNum": 2
   },
   {
    "_defaultOrder": 5,
    "_isFastLaunch": false,
    "category": "General purpose",
    "gpuNum": 0,
    "hideHardwareSpecs": false,
    "memoryGiB": 16,
    "name": "ml.m5.xlarge",
    "vcpuNum": 4
   },
   {
    "_defaultOrder": 6,
    "_isFastLaunch": false,
    "category": "General purpose",
    "gpuNum": 0,
    "hideHardwareSpecs": false,
    "memoryGiB": 32,
    "name": "ml.m5.2xlarge",
    "vcpuNum": 8
   },
   {
    "_defaultOrder": 7,
    "_isFastLaunch": false,
    "category": "General purpose",
    "gpuNum": 0,
    "hideHardwareSpecs": false,
    "memoryGiB": 64,
    "name": "ml.m5.4xlarge",
    "vcpuNum": 16
   },
   {
    "_defaultOrder": 8,
    "_isFastLaunch": false,
    "category": "General purpose",
    "gpuNum": 0,
    "hideHardwareSpecs": false,
    "memoryGiB": 128,
    "name": "ml.m5.8xlarge",
    "vcpuNum": 32
   },
   {
    "_defaultOrder": 9,
    "_isFastLaunch": false,
    "category": "General purpose",
    "gpuNum": 0,
    "hideHardwareSpecs": false,
    "memoryGiB": 192,
    "name": "ml.m5.12xlarge",
    "vcpuNum": 48
   },
   {
    "_defaultOrder": 10,
    "_isFastLaunch": false,
    "category": "General purpose",
    "gpuNum": 0,
    "hideHardwareSpecs": false,
    "memoryGiB": 256,
    "name": "ml.m5.16xlarge",
    "vcpuNum": 64
   },
   {
    "_defaultOrder": 11,
    "_isFastLaunch": false,
    "category": "General purpose",
    "gpuNum": 0,
    "hideHardwareSpecs": false,
    "memoryGiB": 384,
    "name": "ml.m5.24xlarge",
    "vcpuNum": 96
   },
   {
    "_defaultOrder": 12,
    "_isFastLaunch": false,
    "category": "General purpose",
    "gpuNum": 0,
    "hideHardwareSpecs": false,
    "memoryGiB": 8,
    "name": "ml.m5d.large",
    "vcpuNum": 2
   },
   {
    "_defaultOrder": 13,
    "_isFastLaunch": false,
    "category": "General purpose",
    "gpuNum": 0,
    "hideHardwareSpecs": false,
    "memoryGiB": 16,
    "name": "ml.m5d.xlarge",
    "vcpuNum": 4
   },
   {
    "_defaultOrder": 14,
    "_isFastLaunch": false,
    "category": "General purpose",
    "gpuNum": 0,
    "hideHardwareSpecs": false,
    "memoryGiB": 32,
    "name": "ml.m5d.2xlarge",
    "vcpuNum": 8
   },
   {
    "_defaultOrder": 15,
    "_isFastLaunch": false,
    "category": "General purpose",
    "gpuNum": 0,
    "hideHardwareSpecs": false,
    "memoryGiB": 64,
    "name": "ml.m5d.4xlarge",
    "vcpuNum": 16
   },
   {
    "_defaultOrder": 16,
    "_isFastLaunch": false,
    "category": "General purpose",
    "gpuNum": 0,
    "hideHardwareSpecs": false,
    "memoryGiB": 128,
    "name": "ml.m5d.8xlarge",
    "vcpuNum": 32
   },
   {
    "_defaultOrder": 17,
    "_isFastLaunch": false,
    "category": "General purpose",
    "gpuNum": 0,
    "hideHardwareSpecs": false,
    "memoryGiB": 192,
    "name": "ml.m5d.12xlarge",
    "vcpuNum": 48
   },
   {
    "_defaultOrder": 18,
    "_isFastLaunch": false,
    "category": "General purpose",
    "gpuNum": 0,
    "hideHardwareSpecs": false,
    "memoryGiB": 256,
    "name": "ml.m5d.16xlarge",
    "vcpuNum": 64
   },
   {
    "_defaultOrder": 19,
    "_isFastLaunch": false,
    "category": "General purpose",
    "gpuNum": 0,
    "hideHardwareSpecs": false,
    "memoryGiB": 384,
    "name": "ml.m5d.24xlarge",
    "vcpuNum": 96
   },
   {
    "_defaultOrder": 20,
    "_isFastLaunch": false,
    "category": "General purpose",
    "gpuNum": 0,
    "hideHardwareSpecs": true,
    "memoryGiB": 0,
    "name": "ml.geospatial.interactive",
    "supportedImageNames": [
     "sagemaker-geospatial-v1-0"
    ],
    "vcpuNum": 0
   },
   {
    "_defaultOrder": 21,
    "_isFastLaunch": true,
    "category": "Compute optimized",
    "gpuNum": 0,
    "hideHardwareSpecs": false,
    "memoryGiB": 4,
    "name": "ml.c5.large",
    "vcpuNum": 2
   },
   {
    "_defaultOrder": 22,
    "_isFastLaunch": false,
    "category": "Compute optimized",
    "gpuNum": 0,
    "hideHardwareSpecs": false,
    "memoryGiB": 8,
    "name": "ml.c5.xlarge",
    "vcpuNum": 4
   },
   {
    "_defaultOrder": 23,
    "_isFastLaunch": false,
    "category": "Compute optimized",
    "gpuNum": 0,
    "hideHardwareSpecs": false,
    "memoryGiB": 16,
    "name": "ml.c5.2xlarge",
    "vcpuNum": 8
   },
   {
    "_defaultOrder": 24,
    "_isFastLaunch": false,
    "category": "Compute optimized",
    "gpuNum": 0,
    "hideHardwareSpecs": false,
    "memoryGiB": 32,
    "name": "ml.c5.4xlarge",
    "vcpuNum": 16
   },
   {
    "_defaultOrder": 25,
    "_isFastLaunch": false,
    "category": "Compute optimized",
    "gpuNum": 0,
    "hideHardwareSpecs": false,
    "memoryGiB": 72,
    "name": "ml.c5.9xlarge",
    "vcpuNum": 36
   },
   {
    "_defaultOrder": 26,
    "_isFastLaunch": false,
    "category": "Compute optimized",
    "gpuNum": 0,
    "hideHardwareSpecs": false,
    "memoryGiB": 96,
    "name": "ml.c5.12xlarge",
    "vcpuNum": 48
   },
   {
    "_defaultOrder": 27,
    "_isFastLaunch": false,
    "category": "Compute optimized",
    "gpuNum": 0,
    "hideHardwareSpecs": false,
    "memoryGiB": 144,
    "name": "ml.c5.18xlarge",
    "vcpuNum": 72
   },
   {
    "_defaultOrder": 28,
    "_isFastLaunch": false,
    "category": "Compute optimized",
    "gpuNum": 0,
    "hideHardwareSpecs": false,
    "memoryGiB": 192,
    "name": "ml.c5.24xlarge",
    "vcpuNum": 96
   },
   {
    "_defaultOrder": 29,
    "_isFastLaunch": true,
    "category": "Accelerated computing",
    "gpuNum": 1,
    "hideHardwareSpecs": false,
    "memoryGiB": 16,
    "name": "ml.g4dn.xlarge",
    "vcpuNum": 4
   },
   {
    "_defaultOrder": 30,
    "_isFastLaunch": false,
    "category": "Accelerated computing",
    "gpuNum": 1,
    "hideHardwareSpecs": false,
    "memoryGiB": 32,
    "name": "ml.g4dn.2xlarge",
    "vcpuNum": 8
   },
   {
    "_defaultOrder": 31,
    "_isFastLaunch": false,
    "category": "Accelerated computing",
    "gpuNum": 1,
    "hideHardwareSpecs": false,
    "memoryGiB": 64,
    "name": "ml.g4dn.4xlarge",
    "vcpuNum": 16
   },
   {
    "_defaultOrder": 32,
    "_isFastLaunch": false,
    "category": "Accelerated computing",
    "gpuNum": 1,
    "hideHardwareSpecs": false,
    "memoryGiB": 128,
    "name": "ml.g4dn.8xlarge",
    "vcpuNum": 32
   },
   {
    "_defaultOrder": 33,
    "_isFastLaunch": false,
    "category": "Accelerated computing",
    "gpuNum": 4,
    "hideHardwareSpecs": false,
    "memoryGiB": 192,
    "name": "ml.g4dn.12xlarge",
    "vcpuNum": 48
   },
   {
    "_defaultOrder": 34,
    "_isFastLaunch": false,
    "category": "Accelerated computing",
    "gpuNum": 1,
    "hideHardwareSpecs": false,
    "memoryGiB": 256,
    "name": "ml.g4dn.16xlarge",
    "vcpuNum": 64
   },
   {
    "_defaultOrder": 35,
    "_isFastLaunch": false,
    "category": "Accelerated computing",
    "gpuNum": 1,
    "hideHardwareSpecs": false,
    "memoryGiB": 61,
    "name": "ml.p3.2xlarge",
    "vcpuNum": 8
   },
   {
    "_defaultOrder": 36,
    "_isFastLaunch": false,
    "category": "Accelerated computing",
    "gpuNum": 4,
    "hideHardwareSpecs": false,
    "memoryGiB": 244,
    "name": "ml.p3.8xlarge",
    "vcpuNum": 32
   },
   {
    "_defaultOrder": 37,
    "_isFastLaunch": false,
    "category": "Accelerated computing",
    "gpuNum": 8,
    "hideHardwareSpecs": false,
    "memoryGiB": 488,
    "name": "ml.p3.16xlarge",
    "vcpuNum": 64
   },
   {
    "_defaultOrder": 38,
    "_isFastLaunch": false,
    "category": "Accelerated computing",
    "gpuNum": 8,
    "hideHardwareSpecs": false,
    "memoryGiB": 768,
    "name": "ml.p3dn.24xlarge",
    "vcpuNum": 96
   },
   {
    "_defaultOrder": 39,
    "_isFastLaunch": false,
    "category": "Memory Optimized",
    "gpuNum": 0,
    "hideHardwareSpecs": false,
    "memoryGiB": 16,
    "name": "ml.r5.large",
    "vcpuNum": 2
   },
   {
    "_defaultOrder": 40,
    "_isFastLaunch": false,
    "category": "Memory Optimized",
    "gpuNum": 0,
    "hideHardwareSpecs": false,
    "memoryGiB": 32,
    "name": "ml.r5.xlarge",
    "vcpuNum": 4
   },
   {
    "_defaultOrder": 41,
    "_isFastLaunch": false,
    "category": "Memory Optimized",
    "gpuNum": 0,
    "hideHardwareSpecs": false,
    "memoryGiB": 64,
    "name": "ml.r5.2xlarge",
    "vcpuNum": 8
   },
   {
    "_defaultOrder": 42,
    "_isFastLaunch": false,
    "category": "Memory Optimized",
    "gpuNum": 0,
    "hideHardwareSpecs": false,
    "memoryGiB": 128,
    "name": "ml.r5.4xlarge",
    "vcpuNum": 16
   },
   {
    "_defaultOrder": 43,
    "_isFastLaunch": false,
    "category": "Memory Optimized",
    "gpuNum": 0,
    "hideHardwareSpecs": false,
    "memoryGiB": 256,
    "name": "ml.r5.8xlarge",
    "vcpuNum": 32
   },
   {
    "_defaultOrder": 44,
    "_isFastLaunch": false,
    "category": "Memory Optimized",
    "gpuNum": 0,
    "hideHardwareSpecs": false,
    "memoryGiB": 384,
    "name": "ml.r5.12xlarge",
    "vcpuNum": 48
   },
   {
    "_defaultOrder": 45,
    "_isFastLaunch": false,
    "category": "Memory Optimized",
    "gpuNum": 0,
    "hideHardwareSpecs": false,
    "memoryGiB": 512,
    "name": "ml.r5.16xlarge",
    "vcpuNum": 64
   },
   {
    "_defaultOrder": 46,
    "_isFastLaunch": false,
    "category": "Memory Optimized",
    "gpuNum": 0,
    "hideHardwareSpecs": false,
    "memoryGiB": 768,
    "name": "ml.r5.24xlarge",
    "vcpuNum": 96
   },
   {
    "_defaultOrder": 47,
    "_isFastLaunch": false,
    "category": "Accelerated computing",
    "gpuNum": 1,
    "hideHardwareSpecs": false,
    "memoryGiB": 16,
    "name": "ml.g5.xlarge",
    "vcpuNum": 4
   },
   {
    "_defaultOrder": 48,
    "_isFastLaunch": false,
    "category": "Accelerated computing",
    "gpuNum": 1,
    "hideHardwareSpecs": false,
    "memoryGiB": 32,
    "name": "ml.g5.2xlarge",
    "vcpuNum": 8
   },
   {
    "_defaultOrder": 49,
    "_isFastLaunch": false,
    "category": "Accelerated computing",
    "gpuNum": 1,
    "hideHardwareSpecs": false,
    "memoryGiB": 64,
    "name": "ml.g5.4xlarge",
    "vcpuNum": 16
   },
   {
    "_defaultOrder": 50,
    "_isFastLaunch": false,
    "category": "Accelerated computing",
    "gpuNum": 1,
    "hideHardwareSpecs": false,
    "memoryGiB": 128,
    "name": "ml.g5.8xlarge",
    "vcpuNum": 32
   },
   {
    "_defaultOrder": 51,
    "_isFastLaunch": false,
    "category": "Accelerated computing",
    "gpuNum": 1,
    "hideHardwareSpecs": false,
    "memoryGiB": 256,
    "name": "ml.g5.16xlarge",
    "vcpuNum": 64
   },
   {
    "_defaultOrder": 52,
    "_isFastLaunch": false,
    "category": "Accelerated computing",
    "gpuNum": 4,
    "hideHardwareSpecs": false,
    "memoryGiB": 192,
    "name": "ml.g5.12xlarge",
    "vcpuNum": 48
   },
   {
    "_defaultOrder": 53,
    "_isFastLaunch": false,
    "category": "Accelerated computing",
    "gpuNum": 4,
    "hideHardwareSpecs": false,
    "memoryGiB": 384,
    "name": "ml.g5.24xlarge",
    "vcpuNum": 96
   },
   {
    "_defaultOrder": 54,
    "_isFastLaunch": false,
    "category": "Accelerated computing",
    "gpuNum": 8,
    "hideHardwareSpecs": false,
    "memoryGiB": 768,
    "name": "ml.g5.48xlarge",
    "vcpuNum": 192
   },
   {
    "_defaultOrder": 55,
    "_isFastLaunch": false,
    "category": "Accelerated computing",
    "gpuNum": 8,
    "hideHardwareSpecs": false,
    "memoryGiB": 1152,
    "name": "ml.p4d.24xlarge",
    "vcpuNum": 96
   },
   {
    "_defaultOrder": 56,
    "_isFastLaunch": false,
    "category": "Accelerated computing",
    "gpuNum": 8,
    "hideHardwareSpecs": false,
    "memoryGiB": 1152,
    "name": "ml.p4de.24xlarge",
    "vcpuNum": 96
   }
  ],
  "instance_type": "ml.m5.large",
  "kernelspec": {
   "display_name": "Python 3 (Data Science 3.0)",
   "language": "python",
   "name": "python3__SAGEMAKER_INTERNAL__arn:aws:sagemaker:us-east-1:081325390199:image/sagemaker-data-science-310-v1"
  },
  "language_info": {
   "codemirror_mode": {
    "name": "ipython",
    "version": 3
   },
   "file_extension": ".py",
   "mimetype": "text/x-python",
   "name": "python",
   "nbconvert_exporter": "python",
   "pygments_lexer": "ipython3",
   "version": "3.10.6"
  },
  "toc-autonumbering": true,
  "toc-showmarkdowntxt": false
 },
 "nbformat": 4,
 "nbformat_minor": 5
}
